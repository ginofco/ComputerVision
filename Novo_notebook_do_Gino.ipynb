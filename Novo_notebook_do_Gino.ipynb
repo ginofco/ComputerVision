{
 "cells": [
  {
   "cell_type": "markdown",
   "metadata": {},
   "source": [
    "### Novo notebook do Gino"
   ]
  },
  {
   "cell_type": "markdown",
   "metadata": {},
   "source": [
    "Olá! Este é o meu novo Notebook. Quero aprender um pouco de Ciência de Dados."
   ]
  },
  {
   "cell_type": "code",
   "execution_count": 18,
   "metadata": {},
   "outputs": [
    {
     "name": "stdout",
     "output_type": "stream",
     "text": [
      "55\n"
     ]
    }
   ],
   "source": [
    "import numpy as np\n",
    "from skimage import data\n",
    "from skimage.color import rgb2gray\n",
    "from skimage.feature import match_descriptors, ORB, plot_matches\n",
    "from skimage.measure import ransac\n",
    "from skimage.transform import FundamentalMatrixTransform\n",
    "import matplotlib.pyplot as plt\n",
    "\n",
    "cam0=[7315.238 0 997.555; 0 7315.238 980.754; 0 0 1]\n",
    "cam1=[7315.238 0 1806.75; 0 7315.238 980.754; 0 0 1]\n",
    "doffs=809.195\n",
    "baseline=380.135\n",
    "width=2632\n",
    "height=1988\n",
    "ndisp=640\n",
    "isint=0\n",
    "vmin=27\n",
    "vmax=600\n",
    "dyavg=0\n",
    "dymax=0\n",
    "\n",
    "np.random.seed(0)\n",
    "\n",
    "b=5\n",
    "c=50\n",
    "\n",
    "a = b+c\n",
    "print(a)"
   ]
  },
  {
   "cell_type": "code",
   "execution_count": null,
   "metadata": {},
   "outputs": [],
   "source": []
  }
 ],
 "metadata": {
  "kernelspec": {
   "display_name": "Python 3",
   "language": "python",
   "name": "python3"
  },
  "language_info": {
   "codemirror_mode": {
    "name": "ipython",
    "version": 3
   },
   "file_extension": ".py",
   "mimetype": "text/x-python",
   "name": "python",
   "nbconvert_exporter": "python",
   "pygments_lexer": "ipython3",
   "version": "3.6.4"
  }
 },
 "nbformat": 4,
 "nbformat_minor": 2
}
